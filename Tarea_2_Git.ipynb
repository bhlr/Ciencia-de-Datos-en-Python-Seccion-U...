{
  "nbformat": 4,
  "nbformat_minor": 0,
  "metadata": {
    "colab": {
      "name": "Tarea 2 Git.ipynb",
      "provenance": []
    },
    "kernelspec": {
      "name": "python3",
      "display_name": "Python 3"
    }
  },
  "cells": [
    {
      "cell_type": "code",
      "metadata": {
        "id": "b_aF2n8kEQLd"
      },
      "source": [
        ""
      ],
      "execution_count": null,
      "outputs": []
    },
    {
      "cell_type": "markdown",
      "metadata": {
        "id": "l216JHioEd4F"
      },
      "source": [
        "# Git Y control de versiones (curso MIT)\n",
        "Control de versiones :\n",
        "Como su nombre lo indica sos sistemas o softwares para llevar un control de historial de cambios en archivos y folders. Principalemente utilizados por la industria de desarrollo de software para llevar un historial de todos los cambios realizados a un proyecto o modulo. \n",
        "\n",
        "Los sistemas de control de versiones guardan una serie de \"capturas\" de que guardan los estados de los archivos y folderes junto con los atributos como (quien realizo un cambio, fecha, mensaje)\n",
        "\n",
        "Exiten variedad de sistemas de control de versiones entre estos GIT, SVN, CVS. aunque actualmente GIT es el estándar de facto.\n",
        "\n",
        "\n",
        "# GIT\n",
        "\n",
        "GIT tiene un modelo muy bien pensado que permite tener funciones de control de versiones muy buenas como :\n",
        "\n",
        "\n",
        "*   Mantener Historil\n",
        "*   Soportar ramas (branches)\n",
        "*   Permitir colaboracion\n",
        "*   Merge\n",
        "\n",
        "Git modela el historial de una coleccion de archivos y folderes de un directorio raiz en una serie de \"capturas\" o Snapshots\n",
        "\n",
        "<root> (tree)\n",
        "|\n",
        "+- foo (tree)\n",
        "|  |\n",
        "|  + bar.txt (blob, contents = \"hello world\")\n",
        "|\n",
        "+- baz.txt (blob, contents = \"git is wonderful\")\n",
        "\n",
        "\n",
        "En Git, el historial es un gráfico acíclico dirigido de snapshots.lo que significa que cada snapshot en Git es referido a un conjunto de \"padres\", los snapshots que lo precedieron. Un snapshot puede descender de varios padres, por ejemplo, debido a la combinación (merge) de dos ramas (branches) paralelas del desarrollo.\n",
        "\n",
        "Git llama a este snapshot \"commit\".\n",
        "\n",
        "Los commits en Git son inmutables. Sin embargo, esto no significa que los errores no se puedan corregir; es solo que las \"ediciones\" del historial de commits en realidad están creando commits completamente nuevas, y las referencias se actualizan para señalar las nuevas.\n",
        "\n",
        "En el almacén de datos de Git, todos los objetos se direccionan por contenido mediante su hash SHA-1.\n",
        "\n",
        "Los blobs (files), los árboles(carpetas) y los commits se unifican de esta manera: todos son objetos. Cuando hacen referencia a otros objetos, en realidad no los contienen en su representación en el disco, sino que tienen una referencia a ellos por su hash.\n",
        "\n",
        "Git cuenta con nombres legibles por humanos para los hashes SHA-1, llamados \"referencias\". Las referencias son indicadores de commits. A diferencia de los objetos, que son inmutables, las referencias son mutables (sepueden actualizar para señalar una nueva confirmación).\n",
        "\n",
        "# Staging area\n",
        "\n",
        "Un snapshot no es una instantánea basada en el estado actual del directorio de trabajo.\n",
        "\n",
        "Git permiti especificar qué modificaciones deben incluirse en el siguiente snapshot a través de un mecanismo llamado \"área de preparación\".\n",
        "\n",
        "# Comandos de Git\n",
        "\n",
        "# Iniciar un nuevo repositorio de git\n",
        "* Cree un directorio para contener el proyecto.\n",
        "\n",
        "1. Vaya al nuevo directorio.\n",
        "2. Escriba \n",
        "```\n",
        "# git init\n",
        "```\n",
        "\n",
        "3. Cree un nuevo archivo\n",
        "4. Escribe algún código.\n",
        "5. Escriba \n",
        "```\n",
        "# git add \n",
        "```\n",
        " (para agregar los archivos (consulte la página de uso típico).\n",
        "6. Escribe \n",
        "```\n",
        "# git commit. \n",
        "```\n",
        "(para crear un snapshot de tus cambios)"
      ]
    }
  ]
}