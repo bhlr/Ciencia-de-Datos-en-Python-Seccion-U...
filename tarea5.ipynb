{
  "nbformat": 4,
  "nbformat_minor": 0,
  "metadata": {
    "colab": {
      "name": "tarea5.ipynb",
      "provenance": []
    },
    "kernelspec": {
      "name": "python3",
      "display_name": "Python 3"
    }
  },
  "cells": [
    {
      "cell_type": "code",
      "metadata": {
        "id": "ZhWSHds3KKOI"
      },
      "source": [
        "import numpy as np\n",
        "import matplotlib.pyplot as plt"
      ],
      "execution_count": 18,
      "outputs": []
    },
    {
      "cell_type": "code",
      "metadata": {
        "id": "4QLEVX3xR2H3"
      },
      "source": [
        ""
      ],
      "execution_count": null,
      "outputs": []
    },
    {
      "cell_type": "markdown",
      "metadata": {
        "id": "Bl6xbIRsR2im"
      },
      "source": [
        "ejercicio : en data science y programación científica es común necesitar vectores con valores dentro de cierto intervalo, pero con sub-intervalos internos con diference espaciamiento ,por ejemplo:\n",
        "\n",
        "[0. , 0.1 , 0.2 , 0.3 , 0.4 , 0.5 , 0.51, 0.52, 0.53, 0.54, 0.55, 0.56, 0.57, 0.58, 0.59, 0.6 , 0.7 , 0.8 , 0.9 , 1. ]\n",
        "\n",
        "El primer sub-intervalo incrementa de 0.1 en 0.1 , el segundo de 0.01 en 0.01 , y el tercero de 0.1 en 0.1 nuevamente.\n",
        "\n",
        "Usando unicamente NumPy crea un vector de este tipo con el nombre xs .\n",
        "\n",
        "nota: no es permitido usar ciclos, debe realizarse con operaciones \"vectorizadas\" de numpy"
      ]
    },
    {
      "cell_type": "code",
      "metadata": {
        "id": "Y0K37krmR8Wm"
      },
      "source": [
        "xs = np.hstack((np.arange(0.0, 0.5, 0.1, float), np.arange(0.5, 0.6, 0.01, float), np.arange(0.6, 1.01, 0.1, float)))\n",
        "xs"
      ],
      "execution_count": null,
      "outputs": []
    },
    {
      "cell_type": "markdown",
      "metadata": {
        "id": "tj3dxzQRiRPj"
      },
      "source": [
        "Ejercicio (parte de tarea) En este caso usamos un ciclo para ejemplificar pero ya hemos mencionado que debemos evitarlos siempre que sea posible y usar operaciones \"vectorizadas\" ya que es mucho mas rápido al utilizar código pre-compilado de C, en este ejercicio debemos remplazar el calculo de ys para hacerlo de manera \"vectorizada\" y eliminar el ciclo for.\n",
        "\n",
        "tip: usar slicing"
      ]
    },
    {
      "cell_type": "code",
      "metadata": {
        "colab": {
          "base_uri": "https://localhost:8080/"
        },
        "id": "u9E0cHEPiU2m",
        "outputId": "a8e7c0ee-e11d-49e6-91c0-cb271e2af94a"
      },
      "source": [
        "# las siguientes 3 lineas generan un conjunto de datos que se comportan segun una onda senoidal pero tienen\n",
        "# ruido por lo cual vamos a suavizar usando promedio de 3 puntos\n",
        "# en este ejercicio los generamos manualmente pero pensemos que son datos que pudieron ser generados con algún\n",
        "# instrumento como un sensor, o bien estar almacenados en una base de datos\n",
        "sample_points = 10000\n",
        "inicio_intervalo = 0\n",
        "ruido = 0.5*np.random.randn(sample_points) #el ruido comunmente se debe a aleatoriedad o captura no exacta de info.\n",
        "x = np.linspace(inicio_intervalo,5*np.pi,sample_points) \n",
        "y = np.sin(x) + ruido\n",
        "\n",
        "#ys es \"y suavizado\", inicialmente es una copia de y\n",
        "ys =  y.copy()\n",
        "\n",
        "#for n in range(1,len(y)-1): #5\n",
        "#    ys[n] = (y[n-1] + y[n] + y[n+1])/3\n",
        "ys[1:len(y)-1] = (y[:len(y)-2] + y[1:len(y)-1] + y[2:])/3\n",
        "\n",
        "print(y)\n",
        "print(ys)\n",
        "    "
      ],
      "execution_count": 26,
      "outputs": [
        {
          "output_type": "stream",
          "text": [
            "[-0.28588911 -0.36887418  0.46491535 ... -0.3428505  -0.27777474\n",
            "  0.02367471]\n",
            "[-0.28588911 -0.06328265 -0.0458529  ... -0.23373069 -0.19898351\n",
            "  0.02367471]\n"
          ],
          "name": "stdout"
        }
      ]
    },
    {
      "cell_type": "code",
      "metadata": {
        "colab": {
          "base_uri": "https://localhost:8080/",
          "height": 265
        },
        "id": "4NxQRM7cizKC",
        "outputId": "156d048b-3fe1-413d-9e2e-72d161d6aad2"
      },
      "source": [
        "plt.plot(x,y)\n",
        "plt.plot(x,ys)\n",
        "plt.xlim(inicio_intervalo,5*np.pi + 0.5)\n",
        "plt.show()"
      ],
      "execution_count": 27,
      "outputs": [
        {
          "output_type": "display_data",
          "data": {
            "image/png": "[encoded data removed]",
            "text/plain": [
              "<Figure size 432x288 with 1 Axes>"
            ]
          },
          "metadata": {
            "tags": [],
            "needs_background": "light"
          }
        }
      ]
    },
    {
      "cell_type": "markdown",
      "metadata": {
        "id": "JRBoeFmNkwPP"
      },
      "source": [
        "Ejercicio Para calcular la información de una distribución de probabilidad necesitamos calcular el producto entre la información de cada posible x y su probabilidad , cada uno de estos elementos nos indica cuanta incerteza aporta cada x a la entropía de la distribución. Crea una función que calcule esto, debe recibir un vector representando a la dist. de probabilidad y devoler otro vector con el termino de entropía para cada x. Por ejemplo:\n",
        "\n",
        "calcular_entropia([0.25,0.75])\n",
        "\n",
        "Debe resultar en :\n",
        "\n",
        "[0.5 , 0.31127812]\n",
        "\n",
        "Nota: la entropía es la suma sobre estos valores, en este caso no calculamos la entropía,unicamente los termimos de su sumatoria. La entropía es:\n",
        "\n",
        "𝑆=−∑𝑖𝑛𝑃(𝑥𝑖)𝑙𝑜𝑔2𝑃(𝑥𝑖)"
      ]
    },
    {
      "cell_type": "code",
      "metadata": {
        "colab": {
          "base_uri": "https://localhost:8080/"
        },
        "id": "Td6Eogz7kzqg",
        "outputId": "bb872d56-acc3-4cc9-b453-1acc8b3aa589"
      },
      "source": [
        "def calculateEntropy(px):\n",
        "    px = np.array(px)\n",
        "    return -1 * px * np.log2(px)\n",
        "\n",
        "\n",
        "print(calculateEntropy([0.25,0.75]))"
      ],
      "execution_count": 29,
      "outputs": [
        {
          "output_type": "stream",
          "text": [
            "[0.5        0.31127812]\n"
          ],
          "name": "stdout"
        }
      ]
    },
    {
      "cell_type": "markdown",
      "metadata": {
        "id": "dElPvi0CHr0S"
      },
      "source": [
        "# Vector proyeccion\n",
        "\n",
        "proyección del vector u sobre el vector v, el vector proyección tiene la misma dirección que el vector v, por tanto\n",
        "\n",
        "![proyeccion-vectores-8.png](data:image/png;base64,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)\n",
        "\n",
        "\n",
        "Su calculo \n",
        "\n",
        "![proyeccion-vectores-19.png](data:image/png;base64,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)\n",
        "\n",
        "![proyeccion-vectores-21.png](data:image/png;base64,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)"
      ]
    },
    {
      "cell_type": "markdown",
      "metadata": {
        "id": "t47QHhRYiP7Z"
      },
      "source": [
        ""
      ]
    },
    {
      "cell_type": "markdown",
      "metadata": {
        "id": "pxVLs7ABJ8N0"
      },
      "source": [
        ""
      ]
    },
    {
      "cell_type": "code",
      "metadata": {
        "colab": {
          "base_uri": "https://localhost:8080/"
        },
        "id": "oIQTI1acMDos",
        "outputId": "9fe84988-d270-428b-9ed6-bae6c66c9c11"
      },
      "source": [
        "def proyection(x,y) :\n",
        "  z=float(np.dot(x, y))\n",
        "  z1 = np.linalg.norm(y)\n",
        "  print(z1)\n",
        "  z2 = (z/z1**2)\n",
        "  return y*z2\n",
        "\n",
        "x = np.array([2,0])\n",
        "y = np.array([3,-4])\n",
        "proyection(x,y)"
      ],
      "execution_count": 15,
      "outputs": [
        {
          "output_type": "stream",
          "text": [
            "5.0\n"
          ],
          "name": "stdout"
        },
        {
          "output_type": "execute_result",
          "data": {
            "text/plain": [
              "array([ 0.72, -0.96])"
            ]
          },
          "metadata": {
            "tags": []
          },
          "execution_count": 15
        }
      ]
    }
  ]
}