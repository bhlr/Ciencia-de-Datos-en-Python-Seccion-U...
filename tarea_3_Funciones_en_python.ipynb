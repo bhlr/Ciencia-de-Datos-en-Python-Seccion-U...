{
  "nbformat": 4,
  "nbformat_minor": 0,
  "metadata": {
    "colab": {
      "name": "tarea 3:Funciones en python.ipynb",
      "provenance": []
    },
    "kernelspec": {
      "name": "python3",
      "display_name": "Python 3"
    }
  },
  "cells": [
    {
      "cell_type": "code",
      "metadata": {
        "id": "UJLVER1pRbR0"
      },
      "source": [
        ""
      ],
      "execution_count": null,
      "outputs": []
    },
    {
      "cell_type": "markdown",
      "metadata": {
        "id": "gxvHTIbUSG8B"
      },
      "source": [
        "# Funciones en Python\n",
        "Una función es una porción o bloque de código reutilizable que se encarga de realizar una determinada tarea.\n",
        "\n",
        "Las funciones en Python admiten argumentos en su llamada y permiten devolver valores. Estas posibilidades permiten crear funciones más útiles y fácilmente reutilizables.\n",
        "\n",
        "# Sintaxis\n",
        "\n",
        "Para declarar una función solo se debe poner la palabra \"def\" seguido del nombre de la función.\n",
        "\n",
        "\n",
        "```\n",
        "# def saludo():\n",
        "    pass\n",
        "```\n",
        "en los paréntesis deben ir los parámetros, por último la palabra \"pass\" es el contenido de la función. Siempre tengan en cuenta la identación dentro de la función.\n",
        "\n",
        "Las funciones admiten argumentos, es decir, permiten que se les envíen valores con los que trabajar. Las funciones pueden devolver valores, es decir, pueden enviar valores al programa o función de nivel superior. De esa manera, las funciones se pueden reutilizar más fácilmente.\n",
        "\n",
        "# Parámetros\n",
        "\n",
        "En Python no se producen conflictos entre los nombres de los parámetros y los nombres de las variables globales. Es decir, el nombre de un parámetro puede coincidir o no con el de una variable global, pero Python no los confunde: en el ámbito de la función el parámetro hace siempre referencia al dato recibido y no a la variable global y los programas producen el mismo resultado.\n",
        "\n",
        "Cuando invocamos a una función en Python con diferentes argumentos, los valores se asignan a los parámetros en el mismo orden en que se indican.\n",
        "\n",
        "```\n",
        "# def saludo(saludo,nombre):\n",
        "    print(saludo)\n",
        "    print(\",\")\n",
        "    print(nombre)\n",
        " saludo(\"hola\",\"mundo\")\n",
        "```\n",
        "Sin embargo, el orden se puede cambiar si llamamos a la función indicando el nombre de los parámetros.\n",
        "\n",
        "```\n",
        " saludo(nombre=\"mundo\",saludo=\"hola\")\n",
        "```\n",
        "\n",
        "las funciones pueden devolver valores, es decir, pueden enviar valores al programa o función de nivel superior\n",
        "\n",
        "```\n",
        "def saldo(a,b):\n",
        "    resultado = (a + b)\n",
        "    return resultado\n",
        "saldo = saldo(5,4)\n",
        "```\n",
        "Las funciones pueden devolver varios valores simultáneamente\n",
        "```\n",
        "def saldo(a,b):\n",
        "    resultado = (a + b)\n",
        "    media = (a + b) / 2\n",
        "    return resultado, media\n",
        "saldo = saldo(5,4)\n",
        "```\n",
        "\n",
        "# Funciones como objetos y como parametros de otras funciones\n",
        "\n",
        "En general todos los datos en Python están representados por objetos o relaciones entre objetos. las funciones son objetos de primera clase y puedes asignarlas a otra variable, almacenarlas en un contenedor, pasarlas como argumento, etc como cualquier otro objeto.\n",
        "\n",
        "\n",
        "\n",
        "```\n",
        "def operar(func, *args):\n",
        "  for n in args:\n",
        "    print(func(n))\n",
        "\n",
        " operar(cuadrado, 2, 3, 5)\n",
        "```\n",
        "Una función no solo puede ser pasada como argumento, también puede ser retornada por otra función\n",
        "\n",
        "\n",
        "\n",
        "# Funciones Lambda\n",
        "\n",
        "Una función lambda es una pequeña función anónima.\n",
        "Una función lambda puede tomar cualquier número de argumentos, pero solo puede tener una expresión.\n",
        "Las funciones lambda a menudo son argumentos que se pasan a funciones de orden superior, o se usan para construir el resultado de una función de orden superior que necesita devolver una función.\n",
        "\n",
        "\n",
        "```\n",
        "x = lambda a, b, c : a + b + c\n",
        "print(x(5, 6, 2))\n",
        "```\n",
        "\n",
        "\n",
        "# Conclusión\n",
        "\n",
        "*   Una función es un bloque de código que solo se ejecuta cuando se llama.\n",
        "*   Al llamar a una función los valores de los argumentos se asignan en el mismo orden en el que se pasan al invocar a dicha función.\n",
        "* Los parámetros opcionales se indican con el operador ‘=’, tienen un valor por defecto y siempre  se definen después de los parámetros obligatorios.\n",
        "* Se puede modificar el orden de los argumentos con el que se invoca a una función si se indica el nombre de los parámetros. \n",
        "* función lambda es una pequeña función anónima.\n"
      ]
    },
    {
      "cell_type": "code",
      "metadata": {
        "id": "lhx68zlgSE3U"
      },
      "source": [
        ""
      ],
      "execution_count": null,
      "outputs": []
    }
  ]
}