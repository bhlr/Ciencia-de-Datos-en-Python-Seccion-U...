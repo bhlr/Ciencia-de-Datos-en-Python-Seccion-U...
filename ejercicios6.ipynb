{
  "nbformat": 4,
  "nbformat_minor": 0,
  "metadata": {
    "colab": {
      "name": "ejercicios6.ipynb",
      "provenance": [],
      "authorship_tag": "ABX9TyPGCaXkkHH+de8rFMSHtIT4",
      "include_colab_link": true
    },
    "kernelspec": {
      "name": "python3",
      "display_name": "Python 3"
    },
    "language_info": {
      "name": "python"
    }
  },
  "cells": [
    {
      "cell_type": "markdown",
      "metadata": {
        "id": "view-in-github",
        "colab_type": "text"
      },
      "source": [
        "<a href=\"https://colab.research.google.com/github/bhlr/Ciencia-de-Datos-en-Python-Seccion-U.../blob/main/ejercicios6.ipynb\" target=\"_parent\"><img src=\"https://colab.research.google.com/assets/colab-badge.svg\" alt=\"Open In Colab\"/></a>"
      ]
    },
    {
      "cell_type": "code",
      "metadata": {
        "id": "r1yuZOdi_4be"
      },
      "source": [
        ""
      ],
      "execution_count": null,
      "outputs": []
    },
    {
      "cell_type": "markdown",
      "metadata": {
        "id": "4WAANNOpAFXF"
      },
      "source": [
        "# Ejercicio: Investigar y ejemplificar diferencias entre np.array y np.matrix\n",
        "\n",
        "* np.matrix : Returns a matrix from an array-like object, or from a string of data. A matrix is a specialized 2-D array that retains its 2-D nature through operations. It has certain special operators, such as * (matrix multiplication) and ** (matrix power). (It is no longer recommended to use this class, even for linear algebra. Instead use regular arrays. The class may be removed in the future.)\n",
        "\n",
        "* np.array : numpy arrays (ndarrays) are N-dimensional.\n",
        "\n",
        "Matrix tiene algunas ventajas en cuanto a calculos especialmente multiplicacion de matrices. \n",
        "\n"
      ]
    },
    {
      "cell_type": "code",
      "metadata": {
        "colab": {
          "base_uri": "https://localhost:8080/"
        },
        "id": "h_j1dBcfBeZQ",
        "outputId": "7422fd92-4f3f-4fce-9464-d2efedd1fb60"
      },
      "source": [
        "import numpy as np\n",
        "\n",
        "a = np.matrix('1 2; 3 4')\n",
        "b = np.matrix('1 2; 3 4')\n",
        "A = np.array( [[1,1],[0,1]] )\n",
        "B = np.array( [[2,0],[3,4]] )\n",
        "A * B\n",
        "print(a*b)"
      ],
      "execution_count": 3,
      "outputs": [
        {
          "output_type": "stream",
          "text": [
            "[[ 7 10]\n",
            " [15 22]]\n"
          ],
          "name": "stdout"
        }
      ]
    },
    {
      "cell_type": "markdown",
      "metadata": {
        "id": "c1IawikDC-1-"
      },
      "source": [
        "# Ejercicio aplicado en DS Se tiene una red neuronal sencilla(y simplificada) como la de la siguiente imagen: \n",
        "\n",
        "<img src=\"https://www.oreilly.com/library/view/practical-convolutional-neural/9781788392303/assets/246151fb-7893-448d-b9bb-7a87b387a24b.png\">\n",
        "\n",
        "Donde:\n",
        "* INPUT LAYER: un vector X de tamaño = 2 que representa los datos de entrada\n",
        "* HIDDEN_LAYER :capa oculta con 2 neuronas definidas por los vectores:\n",
        "    * HL1 = [0.25,0.37]\n",
        "    * HL2 = [-8,14]\n",
        "* OUTPUT_LAYER = capa de salida definida por el vector [4,9]\n",
        "\n",
        "Crear una funcion neural_network(X) para calcular:\n",
        "* Calcule la salida de cada neurona en la capa intermedia aplicada a la capa de entrada.\n",
        "* Use el resultado del paso anterior como entrada para la neurona en la capa de salida\n",
        "\n",
        "Utilizando multiplicación de matrices se debe calcular para cada fila de la matriz de entrada X el valor de las neuronas de la capa intermedia, esto producirá una nueva matriz con el mismo número de filas que X y 2 columnas(1 para cada neurona) , a  los valores de esta matriz se les debe aplicar la función \"sigmoid\"(descrita a continuación) para limitarlos al intervalo de 0 a 1, esto produce una matriz del mismo tamaño pero con valores entre 0 a 1, esta matriz se multiplica matricialmente por la matriz que representa los pesos de la capa de salida  y este proceso produce un nuevo tensor al cual se debe aplicar nuevamente la función sigmoid. El resultado debe ser un tensor con el mismo número de filas que la matriz X y una sola columna(una predicción para cada fila de X.\n",
        "\n",
        "<img src=\"https://cdn-images-1.medium.com/max/1600/1*Xu7B5y9gp0iL5ooBj7LtWw.png\">\n"
      ]
    },
    {
      "cell_type": "code",
      "metadata": {
        "colab": {
          "base_uri": "https://localhost:8080/"
        },
        "id": "QrZNSEAbEC_T",
        "outputId": "dafc8a47-84d7-4eb3-b8a1-27f83c0f99e4"
      },
      "source": [
        "def sigmoid(z): \n",
        "    return 1/(1+np.exp(-z))\n",
        "\n",
        "def neural_network(X):\n",
        "  HL = np.array([[0.25,-8],\n",
        "                 [0.37,14]])\n",
        "  OL = np.array([[4],[9]])\n",
        "  NL = np.matmul(X,HL)\n",
        "  NL = sigmoid(NL)\n",
        "  ON = np.matmul(NL,OL)\n",
        "  ON = sigmoid(ON)\n",
        "  return ON\n",
        "\n",
        "X =  np.array([[0.8,0.4],\n",
        "               [2,3]])\n",
        " \n",
        "neural_network(X)"
      ],
      "execution_count": 7,
      "outputs": [
        {
          "output_type": "execute_result",
          "data": {
            "text/plain": [
              "array([[0.994146 ],\n",
              "       [0.9999956]])"
            ]
          },
          "metadata": {
            "tags": []
          },
          "execution_count": 7
        }
      ]
    }
  ]
}