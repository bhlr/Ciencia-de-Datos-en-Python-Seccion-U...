{
  "nbformat": 4,
  "nbformat_minor": 0,
  "metadata": {
    "colab": {
      "name": "ejercicios6.ipynb",
      "provenance": [],
      "authorship_tag": "ABX9TyNHVNWE+U0POd06UwERtbfH",
      "include_colab_link": true
    },
    "kernelspec": {
      "name": "python3",
      "display_name": "Python 3"
    },
    "language_info": {
      "name": "python"
    }
  },
  "cells": [
    {
      "cell_type": "markdown",
      "metadata": {
        "id": "view-in-github",
        "colab_type": "text"
      },
      "source": [
        "<a href=\"https://colab.research.google.com/github/bhlr/Ciencia-de-Datos-en-Python-Seccion-U.../blob/main/ejercicios6.ipynb\" target=\"_parent\"><img src=\"https://colab.research.google.com/assets/colab-badge.svg\" alt=\"Open In Colab\"/></a>"
      ]
    },
    {
      "cell_type": "code",
      "metadata": {
        "id": "r1yuZOdi_4be"
      },
      "source": [
        ""
      ],
      "execution_count": null,
      "outputs": []
    },
    {
      "cell_type": "markdown",
      "metadata": {
        "id": "4WAANNOpAFXF"
      },
      "source": [
        "# Ejercicio: Investigar y ejemplificar diferencias entre np.array y np.matrix\n",
        "\n",
        "* np.matrix : Returns a matrix from an array-like object, or from a string of data. A matrix is a specialized 2-D array that retains its 2-D nature through operations. It has certain special operators, such as * (matrix multiplication) and ** (matrix power). (It is no longer recommended to use this class, even for linear algebra. Instead use regular arrays. The class may be removed in the future.)\n",
        "\n",
        "* np.array : numpy arrays (ndarrays) are N-dimensional.\n",
        "\n",
        "Matrix tiene algunas ventajas en cuanto a calculos especialmente multiplicacion de matrices. \n",
        "\n"
      ]
    },
    {
      "cell_type": "code",
      "metadata": {
        "colab": {
          "base_uri": "https://localhost:8080/"
        },
        "id": "h_j1dBcfBeZQ",
        "outputId": "7422fd92-4f3f-4fce-9464-d2efedd1fb60"
      },
      "source": [
        "import numpy as np\n",
        "\n",
        "a = np.matrix('1 2; 3 4')\n",
        "b = np.matrix('1 2; 3 4')\n",
        "A = np.array( [[1,1],[0,1]] )\n",
        "B = np.array( [[2,0],[3,4]] )\n",
        "A * B\n",
        "print(a*b)"
      ],
      "execution_count": 3,
      "outputs": [
        {
          "output_type": "stream",
          "text": [
            "[[ 7 10]\n",
            " [15 22]]\n"
          ],
          "name": "stdout"
        }
      ]
    }
  ]
}